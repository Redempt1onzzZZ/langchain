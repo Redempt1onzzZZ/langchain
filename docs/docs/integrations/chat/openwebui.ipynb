{
 "cells": [
  {
   "cell_type": "raw",
   "id": "ce3672d3",
   "metadata": {
    "vscode": {
     "languageId": "raw"
    }
   },
   "source": [
    "---\n",
    "sidebar_label: OpenWebUIAI\n",
    "---"
   ]
  },
  {
   "attachments": {},
   "cell_type": "markdown",
   "id": "959300d4",
   "metadata": {},
   "source": [
    "# OpenWebUIAI\n",
    "\n",
    "This example showcases how to connect to [Open WebUI](https://docs.openwebui.com/) with langchain.chat_models.OpenWebUIAI"
   ]
  },
  {
   "attachments": {},
   "cell_type": "markdown",
   "id": "6a45943e",
   "metadata": {},
   "source": [
    "## Install Open WebUI And Create Your Own Platform"
   ]
  },
  {
   "cell_type": "markdown",
   "id": "536c1dfa",
   "metadata": {},
   "source": [
    "## Imports"
   ]
  },
  {
   "cell_type": "code",
   "execution_count": 2,
   "id": "c16da3b5",
   "metadata": {},
   "outputs": [],
   "source": [
    "import os\n",
    "\n",
    "from langchain_community.chat_models import OpenWebUIAI\n",
    "from langchain_core.messages import HumanMessage"
   ]
  },
  {
   "attachments": {},
   "cell_type": "markdown",
   "id": "8564ce7d",
   "metadata": {},
   "source": [
    "## Set the Environment API Key\n",
    "You can create a Open WebUI API Key at your own web of Open WebUI.\n",
    "Create an API key in your settings.\n",
    "Set it as environment variables called `OPENWEBUI_API_KEY`."
   ]
  },
  {
   "cell_type": "code",
   "execution_count": 3,
   "id": "46ba25dc",
   "metadata": {},
   "outputs": [],
   "source": [
    "os.environ[\"OPENWEBUI_API_KEY\"] = \"**********\""
   ]
  },
  {
   "cell_type": "markdown",
   "id": "d0ba52e0",
   "metadata": {},
   "source": [
    "**Or execute this code in your terminal** export OPENWEBUI_API_KEY=\"**********\""
   ]
  },
  {
   "cell_type": "markdown",
   "id": "aa885ef5",
   "metadata": {},
   "source": [
    "## Set the api_base\n",
    "You also need to set the api_base (your own Open WebUI link) in your environment, you can do this too in your terminal"
   ]
  },
  {
   "cell_type": "code",
   "execution_count": null,
   "id": "1c25ff91",
   "metadata": {
    "vscode": {
     "languageId": "powershell"
    }
   },
   "outputs": [],
   "source": [
    "export OPENWEBUI_API_BASE=\"**********\""
   ]
  },
  {
   "attachments": {},
   "cell_type": "markdown",
   "id": "bf0294de",
   "metadata": {},
   "source": [
    "## Use the PromptLayerOpenAI LLM like normal"
   ]
  },
  {
   "cell_type": "code",
   "execution_count": null,
   "id": "3acf0069",
   "metadata": {},
   "outputs": [
    {
     "data": {
      "text/plain": [
       "AIMessage(content='Hello there! How can I help you today?\\n', additional_kwargs={}, response_metadata={'token_usage': {'prompt_tokens': 2, 'completion_tokens': 10, 'total_tokens': 12, 'prompt_tokens_details': {'cached_tokens': 0, 'text_tokens': 0, 'audio_tokens': 0, 'image_tokens': 0}, 'completion_tokens_details': {'text_tokens': 0, 'audio_tokens': 0}}, 'model_name': 'gemini-2.0-pro-exp-02-05', 'finish_reason': 'stop'}, id='run-893f15ad-a41b-4004-916e-e75c8eca5a57-0')"
      ]
     },
     "execution_count": 8,
     "metadata": {},
     "output_type": "execute_result"
    }
   ],
   "source": [
    "OPENWEBUI_API_KEY = \"xxxxxxxxxxxxxxxxxxxxxxxxxxxxxxxx\"  \n",
    "OPENWEBUI_API_BASE = \"xxxxxxxxxxxxxxxxxxxxxxxxxxxxxxxx\"\n",
    "llm = OpenWebUIAI(\n",
    "    temperature=0.1,\n",
    "    api_key=OPENWEBUI_API_KEY,\n",
    "    api_base=OPENWEBUI_API_BASE,\n",
    "    model=\"gemini-2.0-pro-exp-02-05\",\n",
    ")\n",
    "response = llm.invoke(input=[HumanMessage(content=\"Hello\")])\n",
    "response"
   ]
  },
  {
   "cell_type": "code",
   "execution_count": null,
   "id": "8f561329",
   "metadata": {},
   "outputs": [],
   "source": []
  }
 ],
 "metadata": {
  "kernelspec": {
   "display_name": "sd",
   "language": "python",
   "name": "python3"
  },
  "language_info": {
   "codemirror_mode": {
    "name": "ipython",
    "version": 3
   },
   "file_extension": ".py",
   "mimetype": "text/x-python",
   "name": "python",
   "nbconvert_exporter": "python",
   "pygments_lexer": "ipython3",
   "version": "3.11.11"
  }
 },
 "nbformat": 4,
 "nbformat_minor": 5
}
